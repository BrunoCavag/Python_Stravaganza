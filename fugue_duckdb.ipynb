{
 "cells": [
  {
   "cell_type": "markdown",
   "metadata": {},
   "source": [
    "## Fugue and DuckDB for FastSQL code in Python\n",
    "\n",
    "Fugue is a python library that allows users to combine python code and sql commands. This gives users the flexibility to switch between python and sql within jupyter notebook or a python script. By default fugue maps your sql code to pandas. \n",
    "\n",
    "DuckDB is an in-process SQL OLAP database management system. The speed is very good on even gigabytes of data on local machines. \n",
    "\n",
    "Thus the combination of Fugue SQL and DuckDB allows you to use SQL with Python while seamlessly speed up your code.\n",
    "\n",
    "* [Para poder extraer el input CLIC](https://towardsdatascience.com/fugue-and-duckdb-fast-sql-code-in-python-e2e2dfc0f8eb)"
   ]
  },
  {
   "cell_type": "code",
   "execution_count": 1,
   "metadata": {},
   "outputs": [
    {
     "data": {
      "application/javascript": "\nrequire([\"codemirror/lib/codemirror\"]);\nfunction set(str) {\n    var obj = {}, words = str.split(\" \");\n    for (var i = 0; i < words.length; ++i) obj[words[i]] = true;\n    return obj;\n  }\nvar fugue_keywords = \"fill hash rand even presort persist broadcast params process output outtransform rowcount concurrency prepartition zip print title save append parquet csv json single checkpoint weak strong deterministic yield connect sample seed take sub callback dataframe file\";\nCodeMirror.defineMIME(\"text/x-fsql\", {\n    name: \"sql\",\n    keywords: set(fugue_keywords + \" add after all alter analyze and anti archive array as asc at between bucket buckets by cache cascade case cast change clear cluster clustered codegen collection column columns comment commit compact compactions compute concatenate cost create cross cube current current_date current_timestamp database databases data dbproperties defined delete delimited deny desc describe dfs directories distinct distribute drop else end escaped except exchange exists explain export extended external false fields fileformat first following for format formatted from full function functions global grant group grouping having if ignore import in index indexes inner inpath inputformat insert intersect interval into is items join keys last lateral lazy left like limit lines list load local location lock locks logical macro map minus msck natural no not null nulls of on optimize option options or order out outer outputformat over overwrite partition partitioned partitions percent preceding principals purge range recordreader recordwriter recover reduce refresh regexp rename repair replace reset restrict revoke right rlike role roles rollback rollup row rows schema schemas select semi separated serde serdeproperties set sets show skewed sort sorted start statistics stored stratify struct table tables tablesample tblproperties temp temporary terminated then to touch transaction transactions transform true truncate unarchive unbounded uncache union unlock unset use using values view when where window with\"),\n    builtin: set(\"date datetime tinyint smallint int bigint boolean float double string binary timestamp decimal array map struct uniontype delimited serde sequencefile textfile rcfile inputformat outputformat\"),\n    atoms: set(\"false true null\"),\n    operatorChars: /^[*\\/+\\-%<>!=~&|^]/,\n    dateSQL: set(\"time\"),\n    support: set(\"ODBCdotTable doubleQuote zerolessFloat\")\n  });\n\nCodeMirror.modeInfo.push( {\n            name: \"Fugue SQL\",\n            mime: \"text/x-fsql\",\n            mode: \"sql\"\n          } );\n\nrequire(['notebook/js/codecell'], function(codecell) {\n    codecell.CodeCell.options_default.highlight_modes['magic_text/x-fsql'] = {'reg':[/%%fsql/]} ;\n    Jupyter.notebook.events.on('kernel_ready.Kernel', function(){\n    Jupyter.notebook.get_cells().map(function(cell){\n        if (cell.cell_type == 'code'){ cell.auto_highlight(); } }) ;\n    });\n  });\n",
      "text/plain": [
       "<IPython.core.display.Javascript object>"
      ]
     },
     "metadata": {},
     "output_type": "display_data"
    }
   ],
   "source": [
    "# First we need to setup Fugue, this will let us use the %%fsql cell magic inside Jupyter notebooks.\n",
    "\n",
    "from fugue_notebook import setup\n",
    "import fugue_duckdb\n",
    "\n",
    "setup()"
   ]
  },
  {
   "cell_type": "code",
   "execution_count": 2,
   "metadata": {},
   "outputs": [
    {
     "name": "stdout",
     "output_type": "stream",
     "text": [
      "/home/bruno/Developing_Learning/Pyhton_Dev_Projects/Cool_Extensions/Data/raw.parquet\n"
     ]
    }
   ],
   "source": [
    "import os\n",
    "\n",
    "save_path = f'{os.getcwd()}/Data/raw.parquet'\n",
    "print(save_path)"
   ]
  },
  {
   "cell_type": "code",
   "execution_count": 3,
   "metadata": {},
   "outputs": [
    {
     "ename": "",
     "evalue": "",
     "output_type": "error",
     "traceback": [
      "\u001b[1;31mCanceled future for execute_request message before replies were done"
     ]
    },
    {
     "ename": "",
     "evalue": "",
     "output_type": "error",
     "traceback": [
      "\u001b[1;31mThe Kernel crashed while executing code in the the current cell or a previous cell. Please review the code in the cell(s) to identify a possible cause of the failure. Click <a href='https://aka.ms/vscodeJupyterKernelCrash'>here</a> for more info. View Jupyter <a href='command:jupyter.viewOutput'>log</a> for further details."
     ]
    }
   ],
   "source": [
    "#Lets try using just pandas:\n",
    "\n",
    "import pandas as pd\n",
    "\n",
    "df = pd.read_parquet(save_path)\n",
    "df"
   ]
  },
  {
   "cell_type": "markdown",
   "metadata": {},
   "source": [
    "### Now using Fugue + DuckDB"
   ]
  },
  {
   "cell_type": "code",
   "execution_count": 4,
   "metadata": {},
   "outputs": [
    {
     "data": {
      "text/html": [
       "<div>\n",
       "<style scoped>\n",
       "    .dataframe tbody tr th:only-of-type {\n",
       "        vertical-align: middle;\n",
       "    }\n",
       "\n",
       "    .dataframe tbody tr th {\n",
       "        vertical-align: top;\n",
       "    }\n",
       "\n",
       "    .dataframe thead th {\n",
       "        text-align: right;\n",
       "    }\n",
       "</style>\n",
       "<table border=\"1\" class=\"dataframe\">\n",
       "  <thead>\n",
       "    <tr style=\"text-align: right;\">\n",
       "      <th></th>\n",
       "      <th>Open</th>\n",
       "      <th>High</th>\n",
       "      <th>Low</th>\n",
       "      <th>Close</th>\n",
       "      <th>Volume</th>\n",
       "      <th>Close_time</th>\n",
       "      <th>Quote_asset_volume</th>\n",
       "      <th>Number_of_trades</th>\n",
       "      <th>Taker_buy_base_asset_volume</th>\n",
       "      <th>Taker_buy_quote_asset_volume</th>\n",
       "      <th>symbol</th>\n",
       "      <th>time</th>\n",
       "    </tr>\n",
       "  </thead>\n",
       "  <tbody>\n",
       "    <tr>\n",
       "      <th>0</th>\n",
       "      <td>0.000436</td>\n",
       "      <td>0.000436</td>\n",
       "      <td>0.000436</td>\n",
       "      <td>0.000436</td>\n",
       "      <td>2018.0</td>\n",
       "      <td>1509494459999</td>\n",
       "      <td>0.880400</td>\n",
       "      <td>4</td>\n",
       "      <td>0.0</td>\n",
       "      <td>0.000000</td>\n",
       "      <td>SNGLSETH</td>\n",
       "      <td>2017-11-01 00:00:00</td>\n",
       "    </tr>\n",
       "    <tr>\n",
       "      <th>1</th>\n",
       "      <td>0.000436</td>\n",
       "      <td>0.000436</td>\n",
       "      <td>0.000421</td>\n",
       "      <td>0.000425</td>\n",
       "      <td>2497.0</td>\n",
       "      <td>1509494519999</td>\n",
       "      <td>1.074549</td>\n",
       "      <td>8</td>\n",
       "      <td>893.0</td>\n",
       "      <td>0.379605</td>\n",
       "      <td>SNGLSETH</td>\n",
       "      <td>2017-11-01 00:01:00</td>\n",
       "    </tr>\n",
       "    <tr>\n",
       "      <th>2</th>\n",
       "      <td>0.000425</td>\n",
       "      <td>0.000428</td>\n",
       "      <td>0.000425</td>\n",
       "      <td>0.000428</td>\n",
       "      <td>2671.0</td>\n",
       "      <td>1509494579999</td>\n",
       "      <td>1.139313</td>\n",
       "      <td>3</td>\n",
       "      <td>2671.0</td>\n",
       "      <td>1.139313</td>\n",
       "      <td>SNGLSETH</td>\n",
       "      <td>2017-11-01 00:02:00</td>\n",
       "    </tr>\n",
       "    <tr>\n",
       "      <th>3</th>\n",
       "      <td>0.000428</td>\n",
       "      <td>0.000428</td>\n",
       "      <td>0.000428</td>\n",
       "      <td>0.000428</td>\n",
       "      <td>1773.0</td>\n",
       "      <td>1509494639999</td>\n",
       "      <td>0.758578</td>\n",
       "      <td>4</td>\n",
       "      <td>1773.0</td>\n",
       "      <td>0.758578</td>\n",
       "      <td>SNGLSETH</td>\n",
       "      <td>2017-11-01 00:03:00</td>\n",
       "    </tr>\n",
       "    <tr>\n",
       "      <th>4</th>\n",
       "      <td>0.000428</td>\n",
       "      <td>0.000428</td>\n",
       "      <td>0.000428</td>\n",
       "      <td>0.000428</td>\n",
       "      <td>887.0</td>\n",
       "      <td>1509494699999</td>\n",
       "      <td>0.379715</td>\n",
       "      <td>4</td>\n",
       "      <td>887.0</td>\n",
       "      <td>0.379715</td>\n",
       "      <td>SNGLSETH</td>\n",
       "      <td>2017-11-01 00:04:00</td>\n",
       "    </tr>\n",
       "    <tr>\n",
       "      <th>5</th>\n",
       "      <td>0.000428</td>\n",
       "      <td>0.000428</td>\n",
       "      <td>0.000428</td>\n",
       "      <td>0.000428</td>\n",
       "      <td>0.0</td>\n",
       "      <td>1509494759999</td>\n",
       "      <td>0.000000</td>\n",
       "      <td>0</td>\n",
       "      <td>0.0</td>\n",
       "      <td>0.000000</td>\n",
       "      <td>SNGLSETH</td>\n",
       "      <td>2017-11-01 00:05:00</td>\n",
       "    </tr>\n",
       "    <tr>\n",
       "      <th>6</th>\n",
       "      <td>0.000428</td>\n",
       "      <td>0.000428</td>\n",
       "      <td>0.000428</td>\n",
       "      <td>0.000428</td>\n",
       "      <td>0.0</td>\n",
       "      <td>1509494819999</td>\n",
       "      <td>0.000000</td>\n",
       "      <td>0</td>\n",
       "      <td>0.0</td>\n",
       "      <td>0.000000</td>\n",
       "      <td>SNGLSETH</td>\n",
       "      <td>2017-11-01 00:06:00</td>\n",
       "    </tr>\n",
       "    <tr>\n",
       "      <th>7</th>\n",
       "      <td>0.000428</td>\n",
       "      <td>0.000428</td>\n",
       "      <td>0.000428</td>\n",
       "      <td>0.000428</td>\n",
       "      <td>0.0</td>\n",
       "      <td>1509494879999</td>\n",
       "      <td>0.000000</td>\n",
       "      <td>0</td>\n",
       "      <td>0.0</td>\n",
       "      <td>0.000000</td>\n",
       "      <td>SNGLSETH</td>\n",
       "      <td>2017-11-01 00:07:00</td>\n",
       "    </tr>\n",
       "    <tr>\n",
       "      <th>8</th>\n",
       "      <td>0.000428</td>\n",
       "      <td>0.000428</td>\n",
       "      <td>0.000428</td>\n",
       "      <td>0.000428</td>\n",
       "      <td>0.0</td>\n",
       "      <td>1509494939999</td>\n",
       "      <td>0.000000</td>\n",
       "      <td>0</td>\n",
       "      <td>0.0</td>\n",
       "      <td>0.000000</td>\n",
       "      <td>SNGLSETH</td>\n",
       "      <td>2017-11-01 00:08:00</td>\n",
       "    </tr>\n",
       "    <tr>\n",
       "      <th>9</th>\n",
       "      <td>0.000428</td>\n",
       "      <td>0.000428</td>\n",
       "      <td>0.000428</td>\n",
       "      <td>0.000428</td>\n",
       "      <td>0.0</td>\n",
       "      <td>1509494999999</td>\n",
       "      <td>0.000000</td>\n",
       "      <td>0</td>\n",
       "      <td>0.0</td>\n",
       "      <td>0.000000</td>\n",
       "      <td>SNGLSETH</td>\n",
       "      <td>2017-11-01 00:09:00</td>\n",
       "    </tr>\n",
       "  </tbody>\n",
       "</table>\n",
       "</div>"
      ],
      "text/plain": [
       "       Open      High       Low     Close  Volume     Close_time  \\\n",
       "0  0.000436  0.000436  0.000436  0.000436  2018.0  1509494459999   \n",
       "1  0.000436  0.000436  0.000421  0.000425  2497.0  1509494519999   \n",
       "2  0.000425  0.000428  0.000425  0.000428  2671.0  1509494579999   \n",
       "3  0.000428  0.000428  0.000428  0.000428  1773.0  1509494639999   \n",
       "4  0.000428  0.000428  0.000428  0.000428   887.0  1509494699999   \n",
       "5  0.000428  0.000428  0.000428  0.000428     0.0  1509494759999   \n",
       "6  0.000428  0.000428  0.000428  0.000428     0.0  1509494819999   \n",
       "7  0.000428  0.000428  0.000428  0.000428     0.0  1509494879999   \n",
       "8  0.000428  0.000428  0.000428  0.000428     0.0  1509494939999   \n",
       "9  0.000428  0.000428  0.000428  0.000428     0.0  1509494999999   \n",
       "\n",
       "   Quote_asset_volume  Number_of_trades  Taker_buy_base_asset_volume  \\\n",
       "0            0.880400                 4                          0.0   \n",
       "1            1.074549                 8                        893.0   \n",
       "2            1.139313                 3                       2671.0   \n",
       "3            0.758578                 4                       1773.0   \n",
       "4            0.379715                 4                        887.0   \n",
       "5            0.000000                 0                          0.0   \n",
       "6            0.000000                 0                          0.0   \n",
       "7            0.000000                 0                          0.0   \n",
       "8            0.000000                 0                          0.0   \n",
       "9            0.000000                 0                          0.0   \n",
       "\n",
       "   Taker_buy_quote_asset_volume    symbol                time  \n",
       "0                      0.000000  SNGLSETH 2017-11-01 00:00:00  \n",
       "1                      0.379605  SNGLSETH 2017-11-01 00:01:00  \n",
       "2                      1.139313  SNGLSETH 2017-11-01 00:02:00  \n",
       "3                      0.758578  SNGLSETH 2017-11-01 00:03:00  \n",
       "4                      0.379715  SNGLSETH 2017-11-01 00:04:00  \n",
       "5                      0.000000  SNGLSETH 2017-11-01 00:05:00  \n",
       "6                      0.000000  SNGLSETH 2017-11-01 00:06:00  \n",
       "7                      0.000000  SNGLSETH 2017-11-01 00:07:00  \n",
       "8                      0.000000  SNGLSETH 2017-11-01 00:08:00  \n",
       "9                      0.000000  SNGLSETH 2017-11-01 00:09:00  "
      ]
     },
     "metadata": {},
     "output_type": "display_data"
    },
    {
     "data": {
      "text/html": [
       "<small>schema: Open:double,High:double,Low:double,Close:double,Volume:double,Close_time:long,Quote_asset_volume:double,Number_of_trades:long,Taker_buy_base_asset_volume:double,Taker_buy_quote_asset_volume:double,symbol:str,time:datetime</small>"
      ],
      "text/plain": [
       "<IPython.core.display.HTML object>"
      ]
     },
     "metadata": {},
     "output_type": "display_data"
    }
   ],
   "source": [
    "%%fsql duck\n",
    "\n",
    "LOAD '{{save_path}}'\n",
    "PRINT"
   ]
  },
  {
   "cell_type": "code",
   "execution_count": 4,
   "metadata": {},
   "outputs": [
    {
     "data": {
      "text/html": [
       "<div>\n",
       "<style scoped>\n",
       "    .dataframe tbody tr th:only-of-type {\n",
       "        vertical-align: middle;\n",
       "    }\n",
       "\n",
       "    .dataframe tbody tr th {\n",
       "        vertical-align: top;\n",
       "    }\n",
       "\n",
       "    .dataframe thead th {\n",
       "        text-align: right;\n",
       "    }\n",
       "</style>\n",
       "<table border=\"1\" class=\"dataframe\">\n",
       "  <thead>\n",
       "    <tr style=\"text-align: right;\">\n",
       "      <th></th>\n",
       "      <th>symbol</th>\n",
       "      <th>trades</th>\n",
       "    </tr>\n",
       "  </thead>\n",
       "  <tbody>\n",
       "    <tr>\n",
       "      <th>0</th>\n",
       "      <td>BTCUSDT</td>\n",
       "      <td>204608.145695</td>\n",
       "    </tr>\n",
       "    <tr>\n",
       "      <th>1</th>\n",
       "      <td>ETHUSDT</td>\n",
       "      <td>121244.543046</td>\n",
       "    </tr>\n",
       "    <tr>\n",
       "      <th>2</th>\n",
       "      <td>LTCUSDT</td>\n",
       "      <td>50804.761468</td>\n",
       "    </tr>\n",
       "  </tbody>\n",
       "</table>\n",
       "</div>"
      ],
      "text/plain": [
       "    symbol         trades\n",
       "0  BTCUSDT  204608.145695\n",
       "1  ETHUSDT  121244.543046\n",
       "2  LTCUSDT   50804.761468"
      ]
     },
     "metadata": {},
     "output_type": "display_data"
    },
    {
     "data": {
      "text/html": [
       "<small>schema: symbol:str,trades:double</small>"
      ],
      "text/plain": [
       "<IPython.core.display.HTML object>"
      ]
     },
     "metadata": {},
     "output_type": "display_data"
    }
   ],
   "source": [
    "%%fsql duck\n",
    "\n",
    "LOAD '{{save_path}}'\n",
    "\n",
    "SELECT * WHERE symbol LIKE '%USDT'\n",
    "\n",
    "SELECT \n",
    "        symbol,\n",
    "        date_trunc('day',time) AS date,\n",
    "        SUM(Number_of_trades) AS trades\n",
    "GROUP BY 1,2\n",
    "\n",
    "\n",
    "SELECT\n",
    "        symbol,\n",
    "        AVG(trades) AS trades\n",
    "GROUP BY 1\n",
    "ORDER BY 2 DESC\n",
    "LIMIT 3\n",
    "\n",
    "\n",
    "YIELD DATAFRAME AS top_symbols\n",
    "PRINT"
   ]
  },
  {
   "cell_type": "code",
   "execution_count": 9,
   "metadata": {},
   "outputs": [
    {
     "data": {
      "text/html": [
       "<div>\n",
       "<style scoped>\n",
       "    .dataframe tbody tr th:only-of-type {\n",
       "        vertical-align: middle;\n",
       "    }\n",
       "\n",
       "    .dataframe tbody tr th {\n",
       "        vertical-align: top;\n",
       "    }\n",
       "\n",
       "    .dataframe thead th {\n",
       "        text-align: right;\n",
       "    }\n",
       "</style>\n",
       "<table border=\"1\" class=\"dataframe\">\n",
       "  <thead>\n",
       "    <tr style=\"text-align: right;\">\n",
       "      <th></th>\n",
       "      <th>symbol</th>\n",
       "      <th>trades</th>\n",
       "    </tr>\n",
       "  </thead>\n",
       "  <tbody>\n",
       "    <tr>\n",
       "      <th>0</th>\n",
       "      <td>BTCUSDT</td>\n",
       "      <td>204608.145695</td>\n",
       "    </tr>\n",
       "    <tr>\n",
       "      <th>1</th>\n",
       "      <td>ETHUSDT</td>\n",
       "      <td>121244.543046</td>\n",
       "    </tr>\n",
       "    <tr>\n",
       "      <th>2</th>\n",
       "      <td>LTCUSDT</td>\n",
       "      <td>50804.761468</td>\n",
       "    </tr>\n",
       "  </tbody>\n",
       "</table>\n",
       "</div>"
      ],
      "text/plain": [
       "    symbol         trades\n",
       "0  BTCUSDT  204608.145695\n",
       "1  ETHUSDT  121244.543046\n",
       "2  LTCUSDT   50804.761468"
      ]
     },
     "execution_count": 9,
     "metadata": {},
     "output_type": "execute_result"
    }
   ],
   "source": [
    "top_symbols.as_pandas()"
   ]
  },
  {
   "cell_type": "markdown",
   "metadata": {},
   "source": [
    "### Assign names to Intermediate outputs"
   ]
  },
  {
   "cell_type": "code",
   "execution_count": 5,
   "metadata": {},
   "outputs": [
    {
     "ename": "",
     "evalue": "",
     "output_type": "error",
     "traceback": [
      "\u001b[1;31mCanceled future for execute_request message before replies were done"
     ]
    },
    {
     "ename": "",
     "evalue": "",
     "output_type": "error",
     "traceback": [
      "\u001b[1;31mThe Kernel crashed while executing code in the the current cell or a previous cell. Please review the code in the cell(s) to identify a possible cause of the failure. Click <a href='https://aka.ms/vscodeJupyterKernelCrash'>here</a> for more info. View Jupyter <a href='command:jupyter.viewOutput'>log</a> for further details."
     ]
    }
   ],
   "source": [
    "%%fsql duck\n",
    "\n",
    "src = LOAD '{{save_path}}'\n",
    "\n",
    "SELECT src.*\n",
    "FROM src\n",
    "INNER JOIN top_symbols\n",
    "ON src.symbol = top_symbols.symbol\n",
    "YIELD DATAFRAME AS top_data"
   ]
  },
  {
   "cell_type": "code",
   "execution_count": 6,
   "metadata": {},
   "outputs": [
    {
     "data": {
      "text/html": [
       "<div>\n",
       "<style scoped>\n",
       "    .dataframe tbody tr th:only-of-type {\n",
       "        vertical-align: middle;\n",
       "    }\n",
       "\n",
       "    .dataframe tbody tr th {\n",
       "        vertical-align: top;\n",
       "    }\n",
       "\n",
       "    .dataframe thead th {\n",
       "        text-align: right;\n",
       "    }\n",
       "</style>\n",
       "<table border=\"1\" class=\"dataframe\">\n",
       "  <thead>\n",
       "    <tr style=\"text-align: right;\">\n",
       "      <th></th>\n",
       "      <th>count</th>\n",
       "    </tr>\n",
       "  </thead>\n",
       "  <tbody>\n",
       "    <tr>\n",
       "      <th>0</th>\n",
       "      <td>46674268</td>\n",
       "    </tr>\n",
       "  </tbody>\n",
       "</table>\n",
       "</div>"
      ],
      "text/plain": [
       "      count\n",
       "0  46674268"
      ]
     },
     "metadata": {},
     "output_type": "display_data"
    },
    {
     "data": {
      "text/html": [
       "<small>schema: count:long</small>"
      ],
      "text/plain": [
       "<IPython.core.display.HTML object>"
      ]
     },
     "metadata": {},
     "output_type": "display_data"
    }
   ],
   "source": [
    "%%fsql duck\n",
    "\n",
    "src = LOAD '{{save_path}}'\n",
    "\n",
    "SELECT COUNT(*) AS count\n",
    "FROM src\n",
    "PRINT"
   ]
  },
  {
   "cell_type": "code",
   "execution_count": 4,
   "metadata": {},
   "outputs": [],
   "source": [
    "import pandas as pd\n",
    "\n",
    "def plot_by(df:pd.DataFrame, by, y) -> None:\n",
    "    for name, group in df.groupby(by):\n",
    "        group.plot(x=\"time\", y=y, title=name)"
   ]
  },
  {
   "cell_type": "code",
   "execution_count": 5,
   "metadata": {},
   "outputs": [
    {
     "data": {
      "image/png": "[encoded data removed]",
      "text/plain": [
       "<Figure size 432x288 with 1 Axes>"
      ]
     },
     "metadata": {
      "needs_background": "light"
     },
     "output_type": "display_data"
    }
   ],
   "source": [
    "%%fsql duck\n",
    "\n",
    "LOAD '{{save_path}}'\n",
    "\n",
    "SELECT * WHERE symbol = 'BTCUSDT'\n",
    "\n",
    "SAMPLE 1 PERCENT SEED 0\n",
    "\n",
    "SELECT * ORDER BY time\n",
    "\n",
    "OUTPUT USING plot_by(by='symbol',y='Close')"
   ]
  },
  {
   "cell_type": "code",
   "execution_count": 6,
   "metadata": {},
   "outputs": [
    {
     "data": {
      "image/png": "[encoded data removed]",
      "text/plain": [
       "<Figure size 432x288 with 1 Axes>"
      ]
     },
     "metadata": {
      "needs_background": "light"
     },
     "output_type": "display_data"
    }
   ],
   "source": [
    "%%fsql duck\n",
    "\n",
    "LOAD '{{save_path}}'\n",
    "\n",
    "SELECT * WHERE symbol = 'ETHUSDT'\n",
    "\n",
    "SAMPLE 1 PERCENT SEED 0\n",
    "\n",
    "SELECT * ORDER BY time\n",
    "\n",
    "OUTPUT USING plot_by(by='symbol',y='Close')"
   ]
  },
  {
   "cell_type": "code",
   "execution_count": 7,
   "metadata": {},
   "outputs": [
    {
     "data": {
      "image/png": "[encoded data removed]",
      "text/plain": [
       "<Figure size 432x288 with 1 Axes>"
      ]
     },
     "metadata": {
      "needs_background": "light"
     },
     "output_type": "display_data"
    }
   ],
   "source": [
    "%%fsql duck\n",
    "\n",
    "LOAD '{{save_path}}'\n",
    "\n",
    "SELECT * WHERE symbol = 'LTCUSDT'\n",
    "\n",
    "SAMPLE 1 PERCENT SEED 0\n",
    "\n",
    "SELECT * ORDER BY time\n",
    "\n",
    "OUTPUT USING plot_by(by='symbol',y='Close')"
   ]
  },
  {
   "cell_type": "markdown",
   "metadata": {},
   "source": [
    "### Transform data"
   ]
  },
  {
   "cell_type": "code",
   "execution_count": 36,
   "metadata": {},
   "outputs": [],
   "source": [
    "# schema: *,macd:double\n",
    "def macd(df:pd.DataFrame) -> pd.DataFrame:\n",
    "  \"\"\"get macd - the indicator of the trend of the timeseries\"\"\"\n",
    "  import pandas_ta\n",
    "  macd = df.ta.macd(close='close', fast=12, slow=26, signal=9)\n",
    "  return df.assign(macd=macd.iloc[:,2])"
   ]
  },
  {
   "cell_type": "code",
   "execution_count": 38,
   "metadata": {},
   "outputs": [
    {
     "data": {
      "image/png": "[encoded data removed]",
      "text/plain": [
       "<Figure size 432x288 with 1 Axes>"
      ]
     },
     "metadata": {
      "needs_background": "light"
     },
     "output_type": "display_data"
    },
    {
     "data": {
      "image/png": "[encoded data removed]",
      "text/plain": [
       "<Figure size 432x288 with 1 Axes>"
      ]
     },
     "metadata": {
      "needs_background": "light"
     },
     "output_type": "display_data"
    },
    {
     "data": {
      "image/png": "[encoded data removed]",
      "text/plain": [
       "<Figure size 432x288 with 1 Axes>"
      ]
     },
     "metadata": {
      "needs_background": "light"
     },
     "output_type": "display_data"
    }
   ],
   "source": [
    "%%fsql duck\n",
    "\n",
    "LOAD '{{save_path}}'\n",
    "\n",
    "SELECT * WHERE symbol IN ('LTCUSDT','ETHUSDT','BTCUSDT')\n",
    "\n",
    "SELECT \n",
    "        symbol,\n",
    "        date_trunc('day',time) AS time,\n",
    "        min_by(Open, time) AS open,\n",
    "        MAX(High) AS high,\n",
    "        MIN(Low) AS low,\n",
    "        max_by(Close, time) AS close,\n",
    "        SUM(Number_of_trades) AS trades,\n",
    "        SUM(Volume) AS volume\n",
    "GROUP BY 1,2\n",
    "\n",
    "\n",
    "TRANSFORM PREPARTITION BY symbol PRESORT time USING macd\n",
    "\n",
    "\n",
    "SELECT * ORDER BY time\n",
    "OUTPUT USING plot_by(by='symbol',y='macd')"
   ]
  },
  {
   "cell_type": "markdown",
   "metadata": {},
   "source": [
    "## Fugue + DuckDB in Production\n",
    "\n",
    "To bring FugueSQL out of Jupyter notebooks and into Python scripts, all we need to do is wrap the FugueSQL query inside a fsql class. We can then call the .run() method and choose an execution engine to be \"duck\"."
   ]
  },
  {
   "cell_type": "code",
   "execution_count": null,
   "metadata": {},
   "outputs": [],
   "source": [
    "import fugue_duckdb\n",
    "query = \"\"\" src = LOAD \"{{save_path}}\"\n",
    "            SELECT * WHERE symbol LIKE '%USDT'\n",
    "            SELECT symbol, date_trunc('day',time) AS date, SUM(Number_of_trades) AS trades GROUP BY 1,2\n",
    "            top_symbols = SELECT symbol, AVG(trades) AS trades GROUP BY 1 ORDER BY 2 DESC LIMIT 4\n",
    "            \n",
    "            SELECT src.* FROM src INNER JOIN top_symbols ON src.symbol = top_symbols.symbol\n",
    "            SELECT\n",
    "                symbol,\n",
    "                date_trunc('day', time) AS time,\n",
    "                min_by(Open, time) AS open,\n",
    "                MAX(High) AS high,\n",
    "                MIN(Low) AS low,\n",
    "                max_by(Close, time) AS close,\n",
    "                SUM(Number_of_trades) AS trades,\n",
    "                SUM(Volume) AS volume\n",
    "            GROUP BY 1, 2\n",
    "            TRANSFORM PREPARTITION BY symbol PRESORT time\n",
    "            USING macd\n",
    "            SELECT * ORDER BY time\n",
    "            OUTPUT USING plot_by(by='symbol', y=\"macd\")\n",
    "            \"\"\"\n",
    "fsql(query).run(\"duck\")"
   ]
  },
  {
   "cell_type": "markdown",
   "metadata": {},
   "source": [
    "## For Spark and DaskFrames\n",
    "\n",
    "You don't need to modify the logic of the query, just modify the magic word.\n",
    "\n",
    "Fugue also has support for Spark, Dask, and cuDF (through blazingSQL) as backends."
   ]
  },
  {
   "cell_type": "code",
   "execution_count": null,
   "metadata": {},
   "outputs": [],
   "source": [
    "#To run on pandas use:\n",
    "!pip install fugue[sql]\n",
    "\n",
    "#To run on spark, dask use:\n",
    "!pip install fugue[sql, spark]\n",
    "!pip install fugue[sql, dask]\n",
    "!pip install fugue[all]"
   ]
  },
  {
   "cell_type": "code",
   "execution_count": null,
   "metadata": {},
   "outputs": [],
   "source": [
    "%%fsql spark\n",
    "\n",
    "SELECT *\n",
    "FROM df\n",
    "TRANSFORM USING str_concat(delimiter='_')\n",
    "PRINT"
   ]
  },
  {
   "cell_type": "code",
   "execution_count": null,
   "metadata": {},
   "outputs": [],
   "source": [
    "# schema: *\n",
    "def get_median(df:pd.DataFrame) -> List[Dict[str,Any]]:\n",
    "    return [{'col1':df['col1'].median(), 'col2':df['col2'].iloc[0]}]"
   ]
  },
  {
   "cell_type": "code",
   "execution_count": null,
   "metadata": {},
   "outputs": [],
   "source": [
    "%%fsql spark\n",
    "\n",
    "SELECT *\n",
    "FROM df\n",
    "TRANSFORM PREPARTITION BY col2 USING get_median\n",
    "PRINT"
   ]
  },
  {
   "cell_type": "markdown",
   "metadata": {},
   "source": [
    "### Spark Production"
   ]
  },
  {
   "cell_type": "code",
   "execution_count": null,
   "metadata": {},
   "outputs": [],
   "source": [
    "from fugue_sql import fsql\n",
    "import fugue_spark\n",
    "\n",
    "fsql(\n",
    "    \"\"\"SELECT * \n",
    "        FROM df \n",
    "        TRANSFORM PREPARTITION BY col2 USING get_median\n",
    "        PRINT\"\"\"\n",
    ").run(\"spark\")"
   ]
  }
 ],
 "metadata": {
  "kernelspec": {
   "display_name": "duckdb",
   "language": "python",
   "name": "duckdb"
  },
  "language_info": {
   "codemirror_mode": {
    "name": "ipython",
    "version": 3
   },
   "file_extension": ".py",
   "mimetype": "text/x-python",
   "name": "python",
   "nbconvert_exporter": "python",
   "pygments_lexer": "ipython3",
   "version": "3.8.5"
  },
  "orig_nbformat": 4
 },
 "nbformat": 4,
 "nbformat_minor": 2
}
